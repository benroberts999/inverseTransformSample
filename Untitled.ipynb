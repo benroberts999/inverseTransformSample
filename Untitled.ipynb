{
 "cells": [
  {
   "cell_type": "code",
   "execution_count": 60,
   "metadata": {},
   "outputs": [],
   "source": [
    "import random\n",
    "import math\n",
    "# Generate randomly distributed angles:\n",
    "# Uses uniform distribution [0,2pi] for phi, and inverse transform sampling for theta.\n",
    "num_points=10\n",
    "phi_lst = [random.uniform(0,2*math.pi) for _ in range (num_points)]\n",
    "u_lst = [random.uniform(0,1) for _ in range (num_points)]\n",
    "theta_lst=[math.acos(1-2*u_lst[i]) for i in range (num_points)]\n",
    "# Define cartesian coordinates:\n",
    "def x(i):\n",
    "    return math.sin(theta_lst[i])*math.cos(phi_lst[i])\n",
    "def y(i):\n",
    "    return math.sin(theta_lst[i])*math.sin(phi_lst[i])\n",
    "def z(i):\n",
    "    return math.cos(theta_lst[i])\n",
    "xyz_lst=[(x(i),y(i),z(i)) for i in range (num_points)]"
   ]
  },
  {
   "cell_type": "code",
   "execution_count": 61,
   "metadata": {},
   "outputs": [
    {
     "data": {
      "text/plain": [
       "[(0.7863623740240338, 0.2574637773195439, -0.5615573168320737),\n",
       " (-0.7388830088596363, -0.24210140592101517, 0.6288392548732931),\n",
       " (-0.39140684699552375, -0.9196795256060781, 0.031468242817192627),\n",
       " (-0.4245875809522254, -0.24099086674470088, -0.872724921293517),\n",
       " (-0.5458903272577882, -0.6171056450849847, 0.5667313061854178),\n",
       " (-0.8268881891099051, -0.285623656831593, -0.48443270881381456),\n",
       " (-0.2378801112190457, 0.9146298807096596, 0.32690248392976184),\n",
       " (0.23125893777434609, 0.27928997612726825, -0.931942279829771),\n",
       " (-0.5678778895513559, 0.7314006163578137, 0.37758156860486214),\n",
       " (-0.35794205934705464, 0.932197923835331, -0.05370766190673483)]"
      ]
     },
     "execution_count": 61,
     "metadata": {},
     "output_type": "execute_result"
    }
   ],
   "source": [
    "xyz_lst"
   ]
  },
  {
   "cell_type": "code",
   "execution_count": 69,
   "metadata": {},
   "outputs": [],
   "source": [
    "import pandas as pd\n",
    "import numpy as np\n",
    "import scipy as sp\n",
    "import plotly.plotly as py"
   ]
  },
  {
   "cell_type": "code",
   "execution_count": 75,
   "metadata": {},
   "outputs": [
    {
     "data": {
      "text/plain": [
       "[<matplotlib.lines.Line2D at 0x7fb78a03f050>]"
      ]
     },
     "execution_count": 75,
     "metadata": {},
     "output_type": "execute_result"
    }
   ],
   "source": [
    "import matplotlib.pyplot as plt\n",
    "plt.plot([1, 2, 3, 4], [1, 4, 9, 16])"
   ]
  },
  {
   "cell_type": "code",
   "execution_count": 76,
   "metadata": {},
   "outputs": [
    {
     "data": {
      "image/png": "[encoded data removed]",
      "text/plain": [
       "<matplotlib.figure.Figure at 0x7fb78b07c050>"
      ]
     },
     "metadata": {},
     "output_type": "display_data"
    }
   ],
   "source": [
    "plt.show()"
   ]
  },
  {
   "cell_type": "code",
   "execution_count": null,
   "metadata": {
    "collapsed": true
   },
   "outputs": [],
   "source": []
  }
 ],
 "metadata": {
  "kernelspec": {
   "display_name": "Python 2",
   "language": "python",
   "name": "python2"
  },
  "language_info": {
   "codemirror_mode": {
    "name": "ipython",
    "version": 2
   },
   "file_extension": ".py",
   "mimetype": "text/x-python",
   "name": "python",
   "nbconvert_exporter": "python",
   "pygments_lexer": "ipython2",
   "version": "2.7.12"
  }
 },
 "nbformat": 4,
 "nbformat_minor": 2
}
